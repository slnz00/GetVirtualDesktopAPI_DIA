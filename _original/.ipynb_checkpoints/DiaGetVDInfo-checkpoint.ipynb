{
 "cells": [
  {
   "cell_type": "code",
   "execution_count": 1,
   "id": "voluntary-antarctica",
   "metadata": {},
   "outputs": [],
   "source": [
    "import comtypes\n",
    "import comtypes.client\n",
    "\n",
    "# this has to be before the import that follows\n",
    "msdia = comtypes.client.GetModule(r'C:\\Program Files (x86)\\Common Files\\Microsoft Shared\\VC\\amd64\\msdia80.dll')\n",
    "\n",
    "from comtypes.gen.Dia2Lib import *\n",
    "\n",
    "try:\n",
    "    dia = comtypes.client.CreateObject(msdia.DiaSource)\n",
    "except Exception as exc:\n",
    "    print(\"Exception creating DIA object: %s\\nTry to regsrv32.dll msdia90.dll\" % (str(exc)))\n",
    "    sys.exit(1)\n"
   ]
  },
  {
   "cell_type": "code",
   "execution_count": 2,
   "id": "divine-ticket",
   "metadata": {},
   "outputs": [],
   "source": [
    "import pefile\n",
    "\n",
    "class PEFile(pefile.PE):\n",
    "    def __init__(self, path):\n",
    "        pefile.PE.__init__(self, self.path)\n",
    "        \n",
    "        self.path = path\n",
    "        self.pdbFileName = None\n",
    "        self.pdbObj = None\n",
    "        self.symbols = None"
   ]
  },
  {
   "cell_type": "code",
   "execution_count": 3,
   "id": "meaning-moore",
   "metadata": {},
   "outputs": [],
   "source": [
    "SYMBOLS_SERVER = 'https://msdl.microsoft.com/download/symbols'\n",
    "\n",
    "\n",
    "def getPDBURL(pe: PEFile):\n",
    "    #pe.parse_data_directories()\n",
    "    string_version_info = {}\n",
    "    for fileinfo in pe.FileInfo[0]:\n",
    "        if fileinfo.Key.decode() == 'StringFileInfo':\n",
    "                for st in fileinfo.StringTable:\n",
    "                        for entry in st.entries.items():\n",
    "                            string_version_info[entry[0].decode()] = entry[1].decode()\n",
    "    verStr = string_version_info['ProductVersion']\n",
    "    for directory in pe.DIRECTORY_ENTRY_DEBUG:\n",
    "        debug_entry = directory.entry\n",
    "        if hasattr(debug_entry, 'PdbFileName'):\n",
    "            pdb_file = debug_entry.PdbFileName[:-1].decode('ascii')\n",
    "            guid = f'{debug_entry.Signature_Data1:08x}'\n",
    "            guid += f'{debug_entry.Signature_Data2:04x}'\n",
    "            guid += f'{debug_entry.Signature_Data3:04x}'\n",
    "            guid += f'{int.from_bytes(debug_entry.Signature_Data4, byteorder=\"big\"):016x}'\n",
    "            guid = guid.upper()\n",
    "            url = f'/{pdb_file}/{guid}{debug_entry.Age:x}/{pdb_file}'\n",
    "            pdbFileName = f'{pdb_file[:-4]}-{verStr}.pdb'\n",
    "            return url, pdbFileName\n",
    "    return None\n",
    "\n",
    "import os\n",
    "import requests\n",
    "import shutil\n",
    "def downloadPDB(path, localCache=r'E:\\Symbols'):\n",
    "    pdbUrl, pdbFileName = getPDBURL(path)\n",
    "    pdbPath = localCache + pdbUrl\n",
    "    pdbPath = os.path.realpath(pdbPath)\n",
    "    if not os.path.exists(pdbPath):\n",
    "        with open(pdbPath, 'wb') as f:\n",
    "            f.write(requests.get(pdbUrl).content)\n",
    "    shutil.copyfile(pdbPath, pdbFileName)\n",
    "    return pdbFileName\n",
    "\n",
    "twinuipcshell = PEFile(r'C:\\Windows\\System32\\twinui.pcshell.dll')\n",
    "twinuipcshell.pdbFileName = downloadPDB(twinuipcshell)\n",
    "actxprxy = PEFile(r'C:\\Windows\\System32\\actxprxy.dll')\n",
    "actxprxy.pdbFileName = downloadPDB(actxprxy)\n",
    "#print(twinuipcshell_pdbfile, actxprxy_pdbfile)"
   ]
  },
  {
   "cell_type": "code",
   "execution_count": 5,
   "id": "fleet-nutrition",
   "metadata": {},
   "outputs": [],
   "source": [
    "def loadPDB(pdbFile):\n",
    "    try:\n",
    "        dia = comtypes.client.CreateObject(msdia.DiaSource)\n",
    "        dia.loadDataFromPdb(pdbFile)\n",
    "        return dia.openSession()\n",
    "    except Exception as exc:\n",
    "        print(('[!] loadDataFromPdb() error %s' % (str(exc))))\n",
    "\n",
    "twinuipcshell.pdbObj = loadPDB(twinuipcshell.pdbFileName)\n",
    "actxprxy.pdbObj = loadPDB(actxprxy.pdbFileName)"
   ]
  },
  {
   "cell_type": "code",
   "execution_count": 18,
   "id": "personalized-brown",
   "metadata": {},
   "outputs": [],
   "source": [
    "udtEnumToStr = ('struct', 'class', 'union', 'interface')\n",
    "# Utility class for capturing some of the data from UDT symbol list in PDB file\n",
    "class PDBSymbol:\n",
    "\n",
    "    @classmethod\n",
    "    def fromDia(cls, symbol_data):\n",
    "        return PDBSymbol(udtEnumToStr[symbol_data.udtKind], symbol_data.name, symbol_data.undecoratedName, symbol_data.virtualAddress, symbol_data.length)\n",
    "    \n",
    "    def __init__(self, kind = '', name = '', undName = '', rva = 0, size = 0):\n",
    "\n",
    "        self.kind = kind\n",
    "        self.name = name\n",
    "        self.undName = undName\n",
    "        self.rva = rva\n",
    "        self.size = size\n",
    "\n",
    "    def __str__(self):\n",
    "\n",
    "        sstr = '0x%08x (%4dB) %s\\t%s' % (self.rva, self.size, self.kind, self.name)\n",
    "\n",
    "        return sstr\n",
    "\n",
    "    def __repr__(self):\n",
    "        return f'<PDBSymbol {str(self)}>'\n",
    "\n",
    "    # required for hash\n",
    "    def __hash__(self):\n",
    "        return hash((self.name, self.rva, self.kind))\n",
    "\n",
    "    # required for hash, when buckets contain multiple items\n",
    "    def __eq__(self, other):\n",
    "        return (self.name == other.name and self.rva == other.rva and self.kind == other.kind)\n",
    "    \n",
    "    def __contains__(self, key):\n",
    "        return self.__eq__(key)\n",
    "\n",
    "# EOF"
   ]
  },
  {
   "cell_type": "code",
   "execution_count": 11,
   "id": "authentic-calgary",
   "metadata": {},
   "outputs": [
    {
     "name": "stdout",
     "output_type": "stream",
     "text": [
      "??1WindowTabHostLivePreviewThumbnailRequested@WindowTabHostTelemetry@@QEAA@XZ 6074484\n"
     ]
    },
    {
     "data": {
      "text/plain": [
       "'0x83485340'"
      ]
     },
     "execution_count": 11,
     "metadata": {},
     "output_type": "execute_result"
    }
   ],
   "source": [
    "symb = twinuipcshell.pdbObj.globalScope.findChildren(SymTagPublicSymbol, None, 0)[100]\n",
    "symbol_data = symb.QueryInterface(IDiaSymbol)\n",
    "print(symbol_data.name, symbol_data.virtualAddress, )\n",
    "hex(twinuipcshell.get_dword_at_rva(symbol_data.virtualAddress))"
   ]
  },
  {
   "cell_type": "code",
   "execution_count": 20,
   "id": "russian-disability",
   "metadata": {},
   "outputs": [],
   "source": [
    "# parse the input PDB\n",
    "def parsePDB(pdbObj):\n",
    "    syms = set()\n",
    "\n",
    "    # iterate the public syms to find all vtables\n",
    "    for symb in pdbObj.globalScope.findChildren(SymTagPublicSymbol, None, 0):\n",
    "        symbol_data = symb.QueryInterface(IDiaSymbol)\n",
    "        symbol_obj = PDBSymbol.fromDia(symbol_data)\n",
    "    \n",
    "        syms.add(symbol_obj)\n",
    "\n",
    "        #print(symbol_data.undecoratedName, symbol_data.name)\n",
    "\n",
    "    # iterate all UDT/private? symbols\n",
    "    for symb in pdbObj.globalScope.findChildren(SymTagUDT, None, 0):\n",
    "        symbol_data = symb.QueryInterface(IDiaSymbol)\n",
    "        #print(symbol_data.undecoratedName, symbol_data.name)\n",
    "        symbol_obj = PDBSymbol.fromDia(symbol_data)\n",
    "    \n",
    "        syms.add(symbol_obj)\n",
    "\n",
    "    return list(syms)\n",
    "\n",
    "twinuiSyms = parsePDB(twinuipcshell.pdbObj)\n",
    "actxprxySyms = parsePDB(actxprxy.pdbObj)"
   ]
  },
  {
   "cell_type": "code",
   "execution_count": 33,
   "id": "missing-albuquerque",
   "metadata": {},
   "outputs": [],
   "source": [
    "actxprxySymMap = {c.name: c for c in actxprxySyms}\n",
    "twinuiSymMap = {c.name: c for c in twinuiSyms}"
   ]
  },
  {
   "cell_type": "code",
   "execution_count": 41,
   "id": "accredited-diameter",
   "metadata": {
    "scrolled": true
   },
   "outputs": [
    {
     "ename": "KeyError",
     "evalue": "'IID_IVirtualDesktop'",
     "output_type": "error",
     "traceback": [
      "\u001b[1;31m---------------------------------------------------------------------------\u001b[0m",
      "\u001b[1;31mKeyError\u001b[0m                                  Traceback (most recent call last)",
      "\u001b[1;32m<ipython-input-41-1d49126bf72f>\u001b[0m in \u001b[0;36m<module>\u001b[1;34m\u001b[0m\n\u001b[0;32m      9\u001b[0m \u001b[0mIID_IVirtualDesktopManagerInternal\u001b[0m \u001b[1;33m=\u001b[0m \u001b[0mGUIDToStr\u001b[0m\u001b[1;33m(\u001b[0m\u001b[0mactxprxy\u001b[0m\u001b[1;33m.\u001b[0m\u001b[0mget_data\u001b[0m\u001b[1;33m(\u001b[0m\u001b[0mactxprxySymMap\u001b[0m\u001b[1;33m[\u001b[0m\u001b[1;34m\"IID_IVirtualDesktopManagerInternal\"\u001b[0m\u001b[1;33m]\u001b[0m\u001b[1;33m.\u001b[0m\u001b[0mrva\u001b[0m\u001b[1;33m,\u001b[0m \u001b[1;36m16\u001b[0m\u001b[1;33m)\u001b[0m\u001b[1;33m)\u001b[0m\u001b[1;33m\u001b[0m\u001b[1;33m\u001b[0m\u001b[0m\n\u001b[0;32m     10\u001b[0m \u001b[0mIID_IVirtualDesktopManager\u001b[0m \u001b[1;33m=\u001b[0m \u001b[0mGUIDToStr\u001b[0m\u001b[1;33m(\u001b[0m\u001b[0mtwinuipcshell\u001b[0m\u001b[1;33m.\u001b[0m\u001b[0mget_data\u001b[0m\u001b[1;33m(\u001b[0m\u001b[0mtwinuiSymMap\u001b[0m\u001b[1;33m[\u001b[0m\u001b[1;34m\"IID_IVirtualDesktopManager\"\u001b[0m\u001b[1;33m]\u001b[0m\u001b[1;33m.\u001b[0m\u001b[0mrva\u001b[0m\u001b[1;33m,\u001b[0m \u001b[1;36m16\u001b[0m\u001b[1;33m)\u001b[0m\u001b[1;33m)\u001b[0m\u001b[1;33m\u001b[0m\u001b[1;33m\u001b[0m\u001b[0m\n\u001b[1;32m---> 11\u001b[1;33m \u001b[0mIID_IVirtualDesktop\u001b[0m \u001b[1;33m=\u001b[0m \u001b[0mGUIDToStr\u001b[0m\u001b[1;33m(\u001b[0m\u001b[0mtwinuipcshell\u001b[0m\u001b[1;33m.\u001b[0m\u001b[0mget_data\u001b[0m\u001b[1;33m(\u001b[0m\u001b[0mtwinuiSymMap\u001b[0m\u001b[1;33m[\u001b[0m\u001b[1;34m\"IID_IVirtualDesktop\"\u001b[0m\u001b[1;33m]\u001b[0m\u001b[1;33m.\u001b[0m\u001b[0mrva\u001b[0m\u001b[1;33m,\u001b[0m \u001b[1;36m16\u001b[0m\u001b[1;33m)\u001b[0m\u001b[1;33m)\u001b[0m\u001b[1;33m\u001b[0m\u001b[1;33m\u001b[0m\u001b[0m\n\u001b[0m",
      "\u001b[1;31mKeyError\u001b[0m: 'IID_IVirtualDesktop'"
     ]
    }
   ],
   "source": [
    "# dump guid\n",
    "def GUIDToStr(guidbytes):\n",
    "    return '%08X-%04X-%04X-%02X%02X-%02X%02X%02X%02X%02X%02X' % (\n",
    "        int.from_bytes(guidbytes[:4], 'little'),\n",
    "        int.from_bytes(guidbytes[4:6], 'little'),\n",
    "        int.from_bytes(guidbytes[6:8], 'little'),\n",
    "        *[int.from_bytes(guidbytes[i:i+1], 'little') for i in range(8, 16)]\n",
    "    )\n",
    "\n",
    "IID_IVirtualDesktopManagerInternal = GUIDToStr(actxprxy.get_data(actxprxySymMap[\"IID_IVirtualDesktopManagerInternal\"].rva, 16))\n",
    "IID_IVirtualDesktopManager = GUIDToStr(twinuipcshell.get_data(twinuiSymMap[\"IID_IVirtualDesktopManager\"].rva, 16))\n",
    "IID_IVirtualDesktop = GUIDToStr(twinuipcshell.get_data(twinuiSymMap[\"IID_IVirtualDesktop\"].rva, 16))"
   ]
  },
  {
   "cell_type": "code",
   "execution_count": 42,
   "id": "understanding-toyota",
   "metadata": {},
   "outputs": [
    {
     "data": {
      "text/plain": [
       "<PDBSymbol 0x006ef540 (0184B) struct\t??_7CVirtualDesktopManager@@6BIVirtualDesktopManagerInternal@@@>"
      ]
     },
     "execution_count": 42,
     "metadata": {},
     "output_type": "execute_result"
    }
   ],
   "source": [
    "# dump vft\n",
    "def dumpVFT(pe: PEFile, vftName):\n",
    "    pe.get_data(pe['??_7CVirtualDesktopManager@@6BIVirtualDesktopManagerInternal@@@'].rva, 16)"
   ]
  }
 ],
 "metadata": {
  "kernelspec": {
   "display_name": "Python 3.8 (Windows)",
   "language": "python",
   "name": "windows-py3"
  },
  "language_info": {
   "codemirror_mode": {
    "name": "ipython",
    "version": 3
   },
   "file_extension": ".py",
   "mimetype": "text/x-python",
   "name": "python",
   "nbconvert_exporter": "python",
   "pygments_lexer": "ipython3",
   "version": "3.8.6"
  }
 },
 "nbformat": 4,
 "nbformat_minor": 5
}
