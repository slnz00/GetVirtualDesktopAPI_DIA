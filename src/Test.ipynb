{
 "cells": [
  {
   "cell_type": "code",
   "execution_count": 3,
   "id": "initial_id",
   "metadata": {
    "collapsed": true,
    "ExecuteTime": {
     "end_time": "2023-09-04T21:30:21.437001700Z",
     "start_time": "2023-09-04T21:30:17.851235Z"
    }
   },
   "outputs": [],
   "source": [
    "import os\n",
    "import sys\n",
    "\n",
    "sys.path.append(os.path.abspath(\"..\"))\n",
    "\n",
    "from src.components.PEFile import PEFile\n",
    "from src.components.Dumper import Dumper\n",
    "\n",
    "twinuipcshell = PEFile(r\"C:\\Windows\\System32\\twinui.pcshell.dll\")\n",
    "actxprxy = PEFile(r\"C:\\Windows\\System32\\actxprxy.dll\")\n",
    "\n",
    "dump = Dumper(Dumper.Output.CONSOLE, 'test', [twinuipcshell, actxprxy])"
   ]
  },
  {
   "cell_type": "markdown",
   "source": [
    "**All GUIDs:**"
   ],
   "metadata": {
    "collapsed": false
   },
   "id": "aaba74c395b440ad"
  },
  {
   "cell_type": "code",
   "execution_count": 2,
   "outputs": [
    {
     "name": "stdout",
     "output_type": "stream",
     "text": [
      "IID_IVirtualDesktopManager: A5CD92FF-29BE-454C-8D04-D82879FB3F1B\n",
      "IID_IVirtualDesktopAccessibility: 9975B71D-0A84-4909-BDDE-B455BBFA55C6\n",
      "IID_IVirtualDesktop: 3F07F4BE-B107-441A-AF0F-39D82529072C\n",
      "IID_IVirtualDesktopTabletModePolicyService: 56B32065-0BB3-42E2-975D-A559DE1316E8\n",
      "IID_IVirtualDesktopNotification: B287FA1C-7771-471A-A2DF-9B6B21F0D675\n",
      "IID_IVirtualDesktopNotificationService: 0CD45E71-D927-4F15-8B0A-8FEF525337BF\n",
      "IID_IVirtualDesktop2: A871910E-6CC0-4E65-8B9B-458CE9115E30\n",
      "IID_IVirtualDesktopAnimationSyncNotification: 6CAFD3F1-05D1-4D26-A32A-9907A72C920B\n",
      "IID_IVirtualDesktopSwitcherInvoker: 7A25165A-86F1-4B4A-B1D2-E89650CD9589\n",
      "IID_IVirtualDesktopManagerInternal2: A3175F2D-239C-4BD2-8AA0-EEBA8B0B138E\n",
      "IID_IVirtualDesktopPinnedApps: 4CE81583-1E4C-4632-A621-07A53543148F\n",
      "IID_IVirtualDesktopHotkeyHandler: 44B664EC-253C-4F5C-827B-78FB573756AE\n",
      "IID_IVirtualDesktopSwitcherHost: 1BE71764-E771-4442-B78F-EDA2C7F067F3\n",
      "IID_IVirtualDesktopAnimationSyncNotificationService: 0DDAF2D8-C38F-4638-95FC-FB9C6DDAE52F\n",
      "IID_IVirtualDesktopManagerInternal: 4970BA3D-FD4E-4647-BEA3-D89076EF4B9C\n"
     ]
    }
   ],
   "source": [
    "for (k, _) in dump.symbol_map.items():\n",
    "    if \"IID_IVirtualDesktop\" in k:\n",
    "        dump.guid(k)"
   ],
   "metadata": {
    "collapsed": false,
    "ExecuteTime": {
     "end_time": "2023-09-04T21:23:44.537205Z",
     "start_time": "2023-09-04T21:23:44.512359300Z"
    }
   },
   "id": "2d53b788bb7d7ffa"
  },
  {
   "cell_type": "markdown",
   "source": [
    "**Usable GUIDs:**"
   ],
   "metadata": {
    "collapsed": false
   },
   "id": "35fbe287cc5461b2"
  },
  {
   "cell_type": "code",
   "execution_count": 3,
   "outputs": [
    {
     "name": "stdout",
     "output_type": "stream",
     "text": [
      "IID_IVirtualDesktopManagerInternal2: A3175F2D-239C-4BD2-8AA0-EEBA8B0B138E\n",
      "IID_IVirtualDesktopManagerInternal: 4970BA3D-FD4E-4647-BEA3-D89076EF4B9C\n",
      "IID_IVirtualDesktopManager: A5CD92FF-29BE-454C-8D04-D82879FB3F1B\n",
      "IID_IVirtualDesktop2: A871910E-6CC0-4E65-8B9B-458CE9115E30\n",
      "IID_IVirtualDesktop: 3F07F4BE-B107-441A-AF0F-39D82529072C\n",
      "IID_IVirtualDesktopPinnedApps: 4CE81583-1E4C-4632-A621-07A53543148F\n"
     ]
    }
   ],
   "source": [
    "dump.guid('IID_IVirtualDesktopManagerInternal2')\n",
    "dump.guid('IID_IVirtualDesktopManagerInternal')\n",
    "dump.guid('IID_IVirtualDesktopManager')\n",
    "dump.guid('IID_IVirtualDesktop2')\n",
    "dump.guid('IID_IVirtualDesktop')\n",
    "dump.guid('IID_IVirtualDesktopPinnedApps')"
   ],
   "metadata": {
    "collapsed": false,
    "ExecuteTime": {
     "end_time": "2023-09-04T21:23:46.994648100Z",
     "start_time": "2023-09-04T21:23:46.988141900Z"
    }
   },
   "id": "bb666059dbcdc67a"
  },
  {
   "cell_type": "markdown",
   "source": [
    "**All vftables:**"
   ],
   "metadata": {
    "collapsed": false
   },
   "id": "47f35efe928a29e9"
  },
  {
   "cell_type": "code",
   "execution_count": 4,
   "outputs": [],
   "source": [
    "for (k, _) in dump.symbol_map.items():\n",
    "    if \"??_7Virtual\" in k or \"??_7CVirtual\" in k:\n",
    "        pass\n",
    "        # dump.vftable('Unknown', k)"
   ],
   "metadata": {
    "collapsed": false,
    "ExecuteTime": {
     "end_time": "2023-09-04T21:30:24.028505400Z",
     "start_time": "2023-09-04T21:30:24.007948700Z"
    }
   },
   "id": "db685f26a6863d85"
  },
  {
   "cell_type": "markdown",
   "source": [
    "**Usable vftables (Win11-22H2-22621.2215)**"
   ],
   "metadata": {
    "collapsed": false
   },
   "id": "8ce0edbe941d83f0"
  },
  {
   "cell_type": "code",
   "execution_count": 5,
   "outputs": [
    {
     "name": "stdout",
     "output_type": "stream",
     "text": [
      "\n",
      "[IVirtualDesktopManagerInternal] const CVirtualDesktopManager::`vftable'{for `IVirtualDesktopManagerInternal2'}\n",
      "    Method  0: [thunk]:public: virtual long __cdecl Microsoft::WRL::Details::RuntimeClassImpl<struct Microsoft::WRL::RuntimeClassFlags<3>,1,1,0,struct Microsoft::WRL::ChainInterfaces<struct IVirtualDesktopManagerPrivate,struct IVirtualDesktopManagerInternal,struct IVirtualDesktopManagerInternal2,class Microsoft::WRL::Details::Nil,class Microsoft::WRL::Details::Nil,class Microsoft::WRL::Details::Nil,class Microsoft::WRL::Details::Nil,class Microsoft::WRL::Details::Nil,class Microsoft::WRL::Details::Nil,class Microsoft::WRL::Details::Nil>,struct IVirtualDesktopManagerInternal,struct IVirtualDesktopManagerInternal2,struct ISuspendableVirtualDesktopManager,struct IImmersiveWindowMessageNotification,class Microsoft::WRL::FtmBase>::QueryInterface`adjustor{32}' (struct _GUID const & __ptr64,void * __ptr64 * __ptr64) __ptr64 (?QueryInterface@?$RuntimeClassImpl@U?$RuntimeClassFlags@$02@WRL@Microsoft@@$00$00$0A@U?$ChainInterfaces@UIVirtualDesktopManagerPrivate@@UIVirtualDesktopManagerInternal@@UIVirtualDesktopManagerInternal2@@VNil@Details@WRL@Microsoft@@V4567@V4567@V4567@V4567@V4567@V4567@@23@UIVirtualDesktopManagerInternal@@UIVirtualDesktopManagerInternal2@@UISuspendableVirtualDesktopManager@@UIImmersiveWindowMessageNotification@@VFtmBase@23@@Details@WRL@Microsoft@@WCA@EAAJAEBU_GUID@@PEAPEAX@Z)\n",
      "    Method  1: [thunk]:public: virtual unsigned long __cdecl Microsoft::WRL::Details::RuntimeClassImpl<struct Microsoft::WRL::RuntimeClassFlags<3>,1,1,0,struct ILightDismissNotification,struct Windows::Internal::Shell::Experience::IBaseExperienceManager,struct Windows::Internal::Shell::Experience::IControlCenterExperienceManager,struct IImmersiveSessionIdleNotification,struct IImmersiveWindowMessageNotification,struct IImmersiveMonitorNotification,struct Windows::Foundation::IClosable,struct IInputSwitchHost,struct IInputHostLayoutChanges>::AddRef`adjustor{32}' (void) __ptr64 (?AddRef@?$RuntimeClassImpl@U?$RuntimeClassFlags@$02@WRL@Microsoft@@$00$00$0A@UILightDismissNotification@@UIBaseExperienceManager@Experience@Shell@Internal@Windows@@UIControlCenterExperienceManager@6789@UIImmersiveSessionIdleNotification@@UIImmersiveWindowMessageNotification@@UIImmersiveMonitorNotification@@UIClosable@Foundation@9@UIInputSwitchHost@@UIInputHostLayoutChanges@@@Details@WRL@Microsoft@@WCA@EAAKXZ)\n",
      "    Method  2: [thunk]:public: virtual unsigned long __cdecl Microsoft::WRL::Details::RuntimeClassImpl<struct Microsoft::WRL::RuntimeClassFlags<3>,1,1,0,struct Microsoft::WRL::ChainInterfaces<struct IVirtualDesktopManagerPrivate,struct IVirtualDesktopManagerInternal,struct IVirtualDesktopManagerInternal2,class Microsoft::WRL::Details::Nil,class Microsoft::WRL::Details::Nil,class Microsoft::WRL::Details::Nil,class Microsoft::WRL::Details::Nil,class Microsoft::WRL::Details::Nil,class Microsoft::WRL::Details::Nil,class Microsoft::WRL::Details::Nil>,struct IVirtualDesktopManagerInternal,struct IVirtualDesktopManagerInternal2,struct ISuspendableVirtualDesktopManager,struct IImmersiveWindowMessageNotification,class Microsoft::WRL::FtmBase>::Release`adjustor{32}' (void) __ptr64 (?Release@?$RuntimeClassImpl@U?$RuntimeClassFlags@$02@WRL@Microsoft@@$00$00$0A@U?$ChainInterfaces@UIVirtualDesktopManagerPrivate@@UIVirtualDesktopManagerInternal@@UIVirtualDesktopManagerInternal2@@VNil@Details@WRL@Microsoft@@V4567@V4567@V4567@V4567@V4567@V4567@@23@UIVirtualDesktopManagerInternal@@UIVirtualDesktopManagerInternal2@@UISuspendableVirtualDesktopManager@@UIImmersiveWindowMessageNotification@@VFtmBase@23@@Details@WRL@Microsoft@@WCA@EAAKXZ)\n",
      "    Method  3: [thunk]:public: virtual long __cdecl CVirtualDesktopManager::GetCount`adjustor{24}' (unsigned int * __ptr64) __ptr64 (?GetCount@CVirtualDesktopManager@@WBI@EAAJPEAI@Z)\n",
      "    Method  4: [thunk]:public: virtual long __cdecl CVirtualDesktopManager::MoveViewToDesktop`adjustor{24}' (struct IApplicationView * __ptr64,struct IVirtualDesktop * __ptr64) __ptr64 (?MoveViewToDesktop@CVirtualDesktopManager@@WBI@EAAJPEAUIApplicationView@@PEAUIVirtualDesktop@@@Z)\n",
      "    Method  5: [thunk]:public: virtual long __cdecl CVirtualDesktopManager::CanViewMoveDesktops`adjustor{24}' (struct IApplicationView * __ptr64,int * __ptr64) __ptr64 (?CanViewMoveDesktops@CVirtualDesktopManager@@WBI@EAAJPEAUIApplicationView@@PEAH@Z)\n",
      "    Method  6: [thunk]:public: virtual long __cdecl CVirtualDesktopManager::GetCurrentDesktop`adjustor{24}' (struct IVirtualDesktop * __ptr64 * __ptr64) __ptr64 (?GetCurrentDesktop@CVirtualDesktopManager@@WBI@EAAJPEAPEAUIVirtualDesktop@@@Z)\n",
      "    Method  7: [thunk]:public: virtual long __cdecl CVirtualDesktopManager::GetDesktops`adjustor{24}' (struct IObjectArray * __ptr64 * __ptr64) __ptr64 (?GetDesktops@CVirtualDesktopManager@@WBI@EAAJPEAPEAUIObjectArray@@@Z)\n",
      "    Method  8: [thunk]:public: virtual long __cdecl CVirtualDesktopManager::GetAdjacentDesktop`adjustor{24}' (struct IVirtualDesktop * __ptr64,unsigned int,struct IVirtualDesktop * __ptr64 * __ptr64) __ptr64 (?GetAdjacentDesktop@CVirtualDesktopManager@@WBI@EAAJPEAUIVirtualDesktop@@IPEAPEAU2@@Z)\n",
      "    Method  9: [thunk]:public: virtual long __cdecl CVirtualDesktopManager::SwitchDesktop`adjustor{24}' (struct IVirtualDesktop * __ptr64) __ptr64 (?SwitchDesktop@CVirtualDesktopManager@@WBI@EAAJPEAUIVirtualDesktop@@@Z)\n",
      "    Method 10: [thunk]:public: virtual long __cdecl CVirtualDesktopManager::CreateDesktopW`adjustor{24}' (struct IVirtualDesktop * __ptr64 * __ptr64) __ptr64 (?CreateDesktopW@CVirtualDesktopManager@@WBI@EAAJPEAPEAUIVirtualDesktop@@@Z)\n",
      "    Method 11: [thunk]:public: virtual long __cdecl CVirtualDesktopManager::MoveDesktop`adjustor{24}' (struct IVirtualDesktop * __ptr64,unsigned int) __ptr64 (?MoveDesktop@CVirtualDesktopManager@@WBI@EAAJPEAUIVirtualDesktop@@I@Z)\n",
      "    Method 12: [thunk]:public: virtual long __cdecl CVirtualDesktopManager::RemoveDesktop`adjustor{24}' (struct IVirtualDesktop * __ptr64,struct IVirtualDesktop * __ptr64) __ptr64 (?RemoveDesktop@CVirtualDesktopManager@@WBI@EAAJPEAUIVirtualDesktop@@0@Z)\n",
      "    Method 13: [thunk]:public: virtual long __cdecl CVirtualDesktopManager::FindDesktop`adjustor{24}' (struct _GUID const & __ptr64,struct IVirtualDesktop * __ptr64 * __ptr64) __ptr64 (?FindDesktop@CVirtualDesktopManager@@WBI@EAAJAEBU_GUID@@PEAPEAUIVirtualDesktop@@@Z)\n",
      "    Method 14: [thunk]:public: virtual long __cdecl CVirtualDesktopManager::GetDesktopSwitchIncludeExcludeViews`adjustor{24}' (struct IVirtualDesktop * __ptr64,struct IObjectArray * __ptr64 * __ptr64,struct IObjectArray * __ptr64 * __ptr64) __ptr64 (?GetDesktopSwitchIncludeExcludeViews@CVirtualDesktopManager@@WBI@EAAJPEAUIVirtualDesktop@@PEAPEAUIObjectArray@@1@Z)\n",
      "    Method 15: [thunk]:public: virtual long __cdecl CVirtualDesktopManager::SetDesktopName`adjustor{24}' (struct IVirtualDesktop * __ptr64,struct HSTRING__ * __ptr64) __ptr64 (?SetDesktopName@CVirtualDesktopManager@@WBI@EAAJPEAUIVirtualDesktop@@PEAUHSTRING__@@@Z)\n",
      "    Method 16: [thunk]:public: virtual long __cdecl CVirtualDesktopManager::SetDesktopWallpaper`adjustor{24}' (struct IVirtualDesktop * __ptr64,struct HSTRING__ * __ptr64) __ptr64 (?SetDesktopWallpaper@CVirtualDesktopManager@@WBI@EAAJPEAUIVirtualDesktop@@PEAUHSTRING__@@@Z)\n",
      "    Method 17: [thunk]:public: virtual long __cdecl CVirtualDesktopManager::UpdateWallpaperPathForAllDesktops`adjustor{24}' (struct HSTRING__ * __ptr64) __ptr64 (?UpdateWallpaperPathForAllDesktops@CVirtualDesktopManager@@WBI@EAAJPEAUHSTRING__@@@Z)\n",
      "    Method 18: [thunk]:public: virtual long __cdecl CVirtualDesktopManager::CopyDesktopState`adjustor{24}' (struct IApplicationView * __ptr64,struct IApplicationView * __ptr64) __ptr64 (?CopyDesktopState@CVirtualDesktopManager@@WBI@EAAJPEAUIApplicationView@@0@Z)\n",
      "    Method 19: [thunk]:public: virtual long __cdecl CVirtualDesktopManager::CreateRemoteDesktop`adjustor{24}' (struct HSTRING__ * __ptr64,struct IVirtualDesktop * __ptr64 * __ptr64) __ptr64 (?CreateRemoteDesktop@CVirtualDesktopManager@@WBI@EAAJPEAUHSTRING__@@PEAPEAUIVirtualDesktop@@@Z)\n",
      "    Method 20: [thunk]:public: virtual long __cdecl CVirtualDesktopManager::SwitchRemoteDesktop`adjustor{24}' (struct IVirtualDesktop * __ptr64) __ptr64 (?SwitchRemoteDesktop@CVirtualDesktopManager@@WBI@EAAJPEAUIVirtualDesktop@@@Z)\n",
      "    Method 21: [thunk]:public: virtual long __cdecl CVirtualDesktopManager::SwitchDesktopWithAnimation`adjustor{24}' (struct IVirtualDesktop * __ptr64) __ptr64 (?SwitchDesktopWithAnimation@CVirtualDesktopManager@@WBI@EAAJPEAUIVirtualDesktop@@@Z)\n",
      "    Method 22: [thunk]:public: virtual long __cdecl CVirtualDesktopManager::GetLastActiveDesktop`adjustor{24}' (struct IVirtualDesktop * __ptr64 * __ptr64) __ptr64 (?GetLastActiveDesktop@CVirtualDesktopManager@@WBI@EAAJPEAPEAUIVirtualDesktop@@@Z)\n",
      "    Method 23: [thunk]:public: virtual long __cdecl CVirtualDesktopManager::WaitForAnimationToComplete`adjustor{24}' (void) __ptr64 (?WaitForAnimationToComplete@CVirtualDesktopManager@@WBI@EAAJXZ)\n",
      "\n",
      "[IVirtualDesktopManager] const VirtualDesktopsApi::`vftable'\n",
      "    Method  0: public: virtual long __cdecl Microsoft::WRL::Details::RuntimeClassImpl<struct Microsoft::WRL::RuntimeClassFlags<2>,1,0,0,struct IVirtualDesktopManager,struct IVirtualDesktopsApiInternal,class Microsoft::WRL::FtmBase>::QueryInterface(struct _GUID const & __ptr64,void * __ptr64 * __ptr64) __ptr64 (?QueryInterface@?$RuntimeClassImpl@U?$RuntimeClassFlags@$01@WRL@Microsoft@@$00$0A@$0A@UIVirtualDesktopManager@@UIVirtualDesktopsApiInternal@@VFtmBase@23@@Details@WRL@Microsoft@@UEAAJAEBU_GUID@@PEAPEAX@Z)\n",
      "    Method  1: public: virtual unsigned long __cdecl Microsoft::WRL::Details::RuntimeClassImpl<struct Microsoft::WRL::RuntimeClassFlags<2>,1,0,0,class Microsoft::WRL::FtmBase,struct IAppLayoutInternal,struct Microsoft::WRL::ChainInterfaces<struct IAppLayoutBuilder,struct IAppLayout,class Microsoft::WRL::Details::Nil,class Microsoft::WRL::Details::Nil,class Microsoft::WRL::Details::Nil,class Microsoft::WRL::Details::Nil,class Microsoft::WRL::Details::Nil,class Microsoft::WRL::Details::Nil,class Microsoft::WRL::Details::Nil,class Microsoft::WRL::Details::Nil> >::AddRef(void) __ptr64 (?AddRef@?$RuntimeClassImpl@U?$RuntimeClassFlags@$01@WRL@Microsoft@@$00$0A@$0A@VFtmBase@23@UIAppLayoutInternal@@U?$ChainInterfaces@UIAppLayoutBuilder@@UIAppLayout@@VNil@Details@WRL@Microsoft@@V3456@V3456@V3456@V3456@V3456@V3456@V3456@@23@@Details@WRL@Microsoft@@UEAAKXZ)\n",
      "    Method  2: public: virtual unsigned long __cdecl Microsoft::WRL::Details::RuntimeClassImpl<struct Microsoft::WRL::RuntimeClassFlags<2>,1,0,0,struct IVirtualDesktopManager,struct IVirtualDesktopsApiInternal,class Microsoft::WRL::FtmBase>::Release(void) __ptr64 (?Release@?$RuntimeClassImpl@U?$RuntimeClassFlags@$01@WRL@Microsoft@@$00$0A@$0A@UIVirtualDesktopManager@@UIVirtualDesktopsApiInternal@@VFtmBase@23@@Details@WRL@Microsoft@@UEAAKXZ)\n",
      "    Method  3: public: virtual long __cdecl VirtualDesktopsApi::IsWindowOnCurrentVirtualDesktop(struct HWND__ * __ptr64,int * __ptr64) __ptr64 (?IsWindowOnCurrentVirtualDesktop@VirtualDesktopsApi@@UEAAJPEAUHWND__@@PEAH@Z)\n",
      "    Method  4: public: virtual long __cdecl VirtualDesktopsApi::GetWindowDesktopId(struct HWND__ * __ptr64,struct _GUID * __ptr64) __ptr64 (?GetWindowDesktopId@VirtualDesktopsApi@@UEAAJPEAUHWND__@@PEAU_GUID@@@Z)\n",
      "    Method  5: public: virtual long __cdecl VirtualDesktopsApi::MoveWindowToDesktop(struct HWND__ * __ptr64,struct _GUID const & __ptr64) __ptr64 (?MoveWindowToDesktop@VirtualDesktopsApi@@UEAAJPEAUHWND__@@AEBU_GUID@@@Z)\n",
      "    Method  6: public: virtual void * __ptr64 __cdecl VirtualDesktopsApi::`scalar deleting destructor'(unsigned int) __ptr64 (??_GVirtualDesktopsApi@@UEAAPEAXI@Z)\n",
      "\n",
      "[IVirtualDesktop] const CVirtualDesktop::`vftable'{for `Microsoft::WRL::ChainInterfaces<struct IVirtualDesktop2,struct IVirtualDesktop,class Microsoft::WRL::Details::Nil,class Microsoft::WRL::Details::Nil,class Microsoft::WRL::Details::Nil,class Microsoft::WRL::Details::Nil,class Microsoft::WRL::Details::Nil,class Microsoft::WRL::Details::Nil,class Microsoft::WRL::Details::Nil,class Microsoft::WRL::Details::Nil>'}\n",
      "    Method  0: [thunk]:public: virtual long __cdecl Microsoft::WRL::Details::RuntimeClassImpl<struct Microsoft::WRL::RuntimeClassFlags<3>,1,1,0,struct Microsoft::WRL::ChainInterfaces<struct IVirtualDesktop2,struct IVirtualDesktop,class Microsoft::WRL::Details::Nil,class Microsoft::WRL::Details::Nil,class Microsoft::WRL::Details::Nil,class Microsoft::WRL::Details::Nil,class Microsoft::WRL::Details::Nil,class Microsoft::WRL::Details::Nil,class Microsoft::WRL::Details::Nil,class Microsoft::WRL::Details::Nil>,struct IVirtualDesktopPrivate,class Microsoft::WRL::FtmBase>::QueryInterface`adjustor{8}' (struct _GUID const & __ptr64,void * __ptr64 * __ptr64) __ptr64 (?QueryInterface@?$RuntimeClassImpl@U?$RuntimeClassFlags@$02@WRL@Microsoft@@$00$00$0A@U?$ChainInterfaces@UIVirtualDesktop2@@UIVirtualDesktop@@VNil@Details@WRL@Microsoft@@V3456@V3456@V3456@V3456@V3456@V3456@V3456@@23@UIVirtualDesktopPrivate@@VFtmBase@23@@Details@WRL@Microsoft@@W7EAAJAEBU_GUID@@PEAPEAX@Z)\n",
      "    Method  1: [thunk]:public: virtual unsigned long __cdecl Microsoft::WRL::Details::RuntimeClassImpl<struct Microsoft::WRL::RuntimeClassFlags<3>,1,1,0,struct Windows::Internal::Shell::Experience::IShellExperiencePositioner,class TwinUI::Cortana::ISearchAppDesktopNotifications,class TwinUI::Cortana::ISearchAppExperienceView,struct IImmersiveWindowMessageNotification,struct Microsoft::WRL::ChainInterfaces<struct IShellTargetingBackContractNotification,struct IShellTargetingContractNotification,class Microsoft::WRL::Details::Nil,class Microsoft::WRL::Details::Nil,class Microsoft::WRL::Details::Nil,class Microsoft::WRL::Details::Nil,class Microsoft::WRL::Details::Nil,class Microsoft::WRL::Details::Nil,class Microsoft::WRL::Details::Nil,class Microsoft::WRL::Details::Nil>,struct IInputHostLayoutChanges,class TwinUI::Cortana::ICortanaWNFNotification>::AddRef`adjustor{8}' (void) __ptr64 (?AddRef@?$RuntimeClassImpl@U?$RuntimeClassFlags@$02@WRL@Microsoft@@$00$00$0A@UIShellExperiencePositioner@Experience@Shell@Internal@Windows@@VISearchAppDesktopNotifications@Cortana@TwinUI@@VISearchAppExperienceView@Cortana@TwinUI@@UIImmersiveWindowMessageNotification@@U?$ChainInterfaces@UIShellTargetingBackContractNotification@@UIShellTargetingContractNotification@@VNil@Details@WRL@Microsoft@@V3456@V3456@V3456@V3456@V3456@V3456@V3456@@23@UIInputHostLayoutChanges@@VICortanaWNFNotification@Cortana@TwinUI@@@Details@WRL@Microsoft@@W7EAAKXZ)\n",
      "    Method  2: [thunk]:public: virtual unsigned long __cdecl Microsoft::WRL::Details::RuntimeClassImpl<struct Microsoft::WRL::RuntimeClassFlags<3>,1,1,0,struct Microsoft::WRL::ChainInterfaces<struct IVirtualDesktop2,struct IVirtualDesktop,class Microsoft::WRL::Details::Nil,class Microsoft::WRL::Details::Nil,class Microsoft::WRL::Details::Nil,class Microsoft::WRL::Details::Nil,class Microsoft::WRL::Details::Nil,class Microsoft::WRL::Details::Nil,class Microsoft::WRL::Details::Nil,class Microsoft::WRL::Details::Nil>,struct IVirtualDesktopPrivate,class Microsoft::WRL::FtmBase>::Release`adjustor{8}' (void) __ptr64 (?Release@?$RuntimeClassImpl@U?$RuntimeClassFlags@$02@WRL@Microsoft@@$00$00$0A@U?$ChainInterfaces@UIVirtualDesktop2@@UIVirtualDesktop@@VNil@Details@WRL@Microsoft@@V3456@V3456@V3456@V3456@V3456@V3456@V3456@@23@UIVirtualDesktopPrivate@@VFtmBase@23@@Details@WRL@Microsoft@@W7EAAKXZ)\n",
      "    Method  3: public: virtual long __cdecl CVirtualDesktop::IsViewVisible(struct IApplicationView * __ptr64,int * __ptr64) __ptr64 (?IsViewVisible@CVirtualDesktop@@UEAAJPEAUIApplicationView@@PEAH@Z)\n",
      "    Method  4: public: virtual long __cdecl CVirtualDesktop::GetID(struct _GUID * __ptr64) __ptr64 (?GetID@CVirtualDesktop@@UEAAJPEAU_GUID@@@Z)\n",
      "    Method  5: public: virtual long __cdecl CVirtualDesktop::GetName(struct HSTRING__ * __ptr64 * __ptr64) __ptr64 (?GetName@CVirtualDesktop@@UEAAJPEAPEAUHSTRING__@@@Z)\n",
      "    Method  6: public: virtual long __cdecl CVirtualDesktop::GetWallpaper(struct HSTRING__ * __ptr64 * __ptr64) __ptr64 (?GetWallpaper@CVirtualDesktop@@UEAAJPEAPEAUHSTRING__@@@Z)\n",
      "    Method  7: public: virtual long __cdecl CVirtualDesktop::IsRemote(int * __ptr64) __ptr64 (?IsRemote@CVirtualDesktop@@UEAAJPEAH@Z)\n",
      "\n",
      "[IVirtualDesktopPinnedApps] const VirtualPinnedAppsHandler::`vftable'{for `Microsoft::WRL::ChainInterfaces<struct IVirtualDesktopPinnedAppsPrivate,struct IVirtualDesktopPinnedApps,class Microsoft::WRL::Details::Nil,class Microsoft::WRL::Details::Nil,class Microsoft::WRL::Details::Nil,class Microsoft::WRL::Details::Nil,class Microsoft::WRL::Details::Nil,class Microsoft::WRL::Details::Nil,class Microsoft::WRL::Details::Nil,class Microsoft::WRL::Details::Nil>'}\n",
      "    Method  0: public: virtual long __cdecl Microsoft::WRL::Details::RuntimeClassImpl<struct Microsoft::WRL::RuntimeClassFlags<2>,1,0,0,struct Microsoft::WRL::ChainInterfaces<struct IVirtualDesktopPinnedAppsPrivate,struct IVirtualDesktopPinnedApps,class Microsoft::WRL::Details::Nil,class Microsoft::WRL::Details::Nil,class Microsoft::WRL::Details::Nil,class Microsoft::WRL::Details::Nil,class Microsoft::WRL::Details::Nil,class Microsoft::WRL::Details::Nil,class Microsoft::WRL::Details::Nil,class Microsoft::WRL::Details::Nil>,class Microsoft::WRL::FtmBase>::QueryInterface(struct _GUID const & __ptr64,void * __ptr64 * __ptr64) __ptr64 (?QueryInterface@?$RuntimeClassImpl@U?$RuntimeClassFlags@$01@WRL@Microsoft@@$00$0A@$0A@U?$ChainInterfaces@UIVirtualDesktopPinnedAppsPrivate@@UIVirtualDesktopPinnedApps@@VNil@Details@WRL@Microsoft@@V3456@V3456@V3456@V3456@V3456@V3456@V3456@@23@VFtmBase@23@@Details@WRL@Microsoft@@UEAAJAEBU_GUID@@PEAPEAX@Z)\n",
      "    Method  1: public: virtual unsigned long __cdecl Microsoft::WRL::Details::RuntimeClassImpl<struct Microsoft::WRL::RuntimeClassFlags<2>,1,0,0,struct IApplicationViewTitlebarConfiguration,class Microsoft::WRL::FtmBase>::AddRef(void) __ptr64 (?AddRef@?$RuntimeClassImpl@U?$RuntimeClassFlags@$01@WRL@Microsoft@@$00$0A@$0A@UIApplicationViewTitlebarConfiguration@@VFtmBase@23@@Details@WRL@Microsoft@@UEAAKXZ)\n",
      "    Method  2: public: virtual unsigned long __cdecl Microsoft::WRL::Details::RuntimeClassImpl<struct Microsoft::WRL::RuntimeClassFlags<2>,1,0,0,struct Microsoft::WRL::ChainInterfaces<struct IVirtualDesktopPinnedAppsPrivate,struct IVirtualDesktopPinnedApps,class Microsoft::WRL::Details::Nil,class Microsoft::WRL::Details::Nil,class Microsoft::WRL::Details::Nil,class Microsoft::WRL::Details::Nil,class Microsoft::WRL::Details::Nil,class Microsoft::WRL::Details::Nil,class Microsoft::WRL::Details::Nil,class Microsoft::WRL::Details::Nil>,class Microsoft::WRL::FtmBase>::Release(void) __ptr64 (?Release@?$RuntimeClassImpl@U?$RuntimeClassFlags@$01@WRL@Microsoft@@$00$0A@$0A@U?$ChainInterfaces@UIVirtualDesktopPinnedAppsPrivate@@UIVirtualDesktopPinnedApps@@VNil@Details@WRL@Microsoft@@V3456@V3456@V3456@V3456@V3456@V3456@V3456@@23@VFtmBase@23@@Details@WRL@Microsoft@@UEAAKXZ)\n",
      "    Method  3: public: virtual long __cdecl VirtualPinnedAppsHandler::IsAppIdPinned(unsigned short const * __ptr64,int * __ptr64) __ptr64 (?IsAppIdPinned@VirtualPinnedAppsHandler@@UEAAJPEBGPEAH@Z)\n",
      "    Method  4: public: virtual long __cdecl VirtualPinnedAppsHandler::PinAppID(unsigned short const * __ptr64) __ptr64 (?PinAppID@VirtualPinnedAppsHandler@@UEAAJPEBG@Z)\n",
      "    Method  5: public: virtual long __cdecl VirtualPinnedAppsHandler::UnpinAppID(unsigned short const * __ptr64) __ptr64 (?UnpinAppID@VirtualPinnedAppsHandler@@UEAAJPEBG@Z)\n",
      "    Method  6: public: virtual long __cdecl VirtualPinnedAppsHandler::IsViewPinned(struct IApplicationView * __ptr64,int * __ptr64) __ptr64 (?IsViewPinned@VirtualPinnedAppsHandler@@UEAAJPEAUIApplicationView@@PEAH@Z)\n",
      "    Method  7: public: virtual long __cdecl VirtualPinnedAppsHandler::PinView(struct IApplicationView * __ptr64) __ptr64 (?PinView@VirtualPinnedAppsHandler@@UEAAJPEAUIApplicationView@@@Z)\n",
      "    Method  8: public: virtual long __cdecl VirtualPinnedAppsHandler::UnpinView(struct IApplicationView * __ptr64) __ptr64 (?UnpinView@VirtualPinnedAppsHandler@@UEAAJPEAUIApplicationView@@@Z)\n",
      "    Method  9: public: virtual long __cdecl VirtualPinnedAppsHandler::SetViewCollectionInternal(struct IApplicationViewCollection * __ptr64) __ptr64 (?SetViewCollectionInternal@VirtualPinnedAppsHandler@@UEAAJPEAUIApplicationViewCollection@@@Z)\n",
      "    Method 10: public: virtual long __cdecl VirtualPinnedAppsHandler::ViewAddedInternal(struct IApplicationView * __ptr64) __ptr64 (?ViewAddedInternal@VirtualPinnedAppsHandler@@UEAAJPEAUIApplicationView@@@Z)\n",
      "    Method 11: public: virtual long __cdecl VirtualPinnedAppsHandler::ViewAppIdChangedInternal(struct IApplicationView * __ptr64) __ptr64 (?ViewAppIdChangedInternal@VirtualPinnedAppsHandler@@UEAAJPEAUIApplicationView@@@Z)\n",
      "    Method 12: public: virtual long __cdecl VirtualPinnedAppsHandler::PinViewInternal(struct IApplicationView * __ptr64) __ptr64 (?PinViewInternal@VirtualPinnedAppsHandler@@UEAAJPEAUIApplicationView@@@Z)\n",
      "    Method 13: public: virtual long __cdecl VirtualPinnedAppsHandler::UnpinViewInternal(struct IApplicationView * __ptr64,struct IVirtualDesktop * __ptr64) __ptr64 (?UnpinViewInternal@VirtualPinnedAppsHandler@@UEAAJPEAUIApplicationView@@PEAUIVirtualDesktop@@@Z)\n",
      "    Method 14: public: virtual long __cdecl VirtualPinnedAppsHandler::PinViewNoGroupPropagateInternal(struct IApplicationView * __ptr64) __ptr64 (?PinViewNoGroupPropagateInternal@VirtualPinnedAppsHandler@@UEAAJPEAUIApplicationView@@@Z)\n",
      "    Method 15: public: virtual long __cdecl VirtualPinnedAppsHandler::UnpinViewNoGroupPropagateInternal(struct IApplicationView * __ptr64,struct IVirtualDesktop * __ptr64) __ptr64 (?UnpinViewNoGroupPropagateInternal@VirtualPinnedAppsHandler@@UEAAJPEAUIApplicationView@@PEAUIVirtualDesktop@@@Z)\n",
      "    Method 16: public: virtual int __cdecl VirtualPinnedAppsHandler::IsViewPinnedInternal(struct IApplicationView * __ptr64) __ptr64 (?IsViewPinnedInternal@VirtualPinnedAppsHandler@@UEAAHPEAUIApplicationView@@@Z)\n",
      "    Method 17: public: virtual void * __ptr64 __cdecl VirtualPinnedAppsHandler::`vector deleting destructor'(unsigned int) __ptr64 (??_EVirtualPinnedAppsHandler@@UEAAPEAXI@Z)\n",
      "    Method 18: Unknown (0x4B5EB0)\n",
      "    Method 19: Unknown (0x4B6180)\n",
      "    Method 20: Unknown (0x15B6B0)\n",
      "    Method 21: Unknown (0x19A290)\n",
      "    Method 22: Unknown (0x4B5E40)\n",
      "    Method 23: public: virtual long __cdecl Microsoft::WRL::Details::RuntimeClassImpl<struct Microsoft::WRL::RuntimeClassFlags<2>,1,0,0,struct Windows::Internal::IComPoolTask>::QueryInterface(struct _GUID const & __ptr64,void * __ptr64 * __ptr64) __ptr64 (?QueryInterface@?$RuntimeClassImpl@U?$RuntimeClassFlags@$01@WRL@Microsoft@@$00$0A@$0A@UIComPoolTask@Internal@Windows@@@Details@WRL@Microsoft@@UEAAJAEBU_GUID@@PEAPEAX@Z)\n",
      "    Method 24: public: virtual unsigned long __cdecl Microsoft::WRL::Details::RuntimeClassImpl<struct Microsoft::WRL::RuntimeClassFlags<2>,1,0,0,struct Windows::Internal::IComPoolTask>::AddRef(void) __ptr64 (?AddRef@?$RuntimeClassImpl@U?$RuntimeClassFlags@$01@WRL@Microsoft@@$00$0A@$0A@UIComPoolTask@Internal@Windows@@@Details@WRL@Microsoft@@UEAAKXZ)\n",
      "    Method 25: public: virtual unsigned long __cdecl Microsoft::WRL::Details::RuntimeClassImpl<struct Microsoft::WRL::RuntimeClassFlags<2>,1,0,0,struct Windows::Internal::IComPoolTask>::Release(void) __ptr64 (?Release@?$RuntimeClassImpl@U?$RuntimeClassFlags@$01@WRL@Microsoft@@$00$0A@$0A@UIComPoolTask@Internal@Windows@@@Details@WRL@Microsoft@@UEAAKXZ)\n",
      "    Method 26: Unknown (0x197B10)\n",
      "    Method 27: Unknown (0x183320)\n"
     ]
    }
   ],
   "source": [
    "dump.vftable('IVirtualDesktopManagerInternal', '??_7CVirtualDesktopManager@@6BIVirtualDesktopManagerInternal2@@@')\n",
    "dump.vftable('IVirtualDesktopManager', '??_7VirtualDesktopsApi@@6B@')\n",
    "dump.vftable('IVirtualDesktop', '??_7CVirtualDesktop@@6B?$ChainInterfaces@UIVirtualDesktop2@@UIVirtualDesktop@@VNil@Details@WRL@Microsoft@@V3456@V3456@V3456@V3456@V3456@V3456@V3456@@WRL@Microsoft@@@')\n",
    "dump.vftable('IVirtualDesktopPinnedApps', '??_7VirtualPinnedAppsHandler@@6B?$ChainInterfaces@UIVirtualDesktopPinnedAppsPrivate@@UIVirtualDesktopPinnedApps@@VNil@Details@WRL@Microsoft@@V3456@V3456@V3456@V3456@V3456@V3456@V3456@@WRL@Microsoft@@@')\n"
   ],
   "metadata": {
    "collapsed": false,
    "ExecuteTime": {
     "end_time": "2023-09-04T21:23:59.553214500Z",
     "start_time": "2023-09-04T21:23:59.507697600Z"
    }
   },
   "id": "6e69729118be8a70"
  }
 ],
 "metadata": {
  "kernelspec": {
   "display_name": "Python 3",
   "language": "python",
   "name": "python3"
  },
  "language_info": {
   "codemirror_mode": {
    "name": "ipython",
    "version": 2
   },
   "file_extension": ".py",
   "mimetype": "text/x-python",
   "name": "python",
   "nbconvert_exporter": "python",
   "pygments_lexer": "ipython2",
   "version": "2.7.6"
  }
 },
 "nbformat": 4,
 "nbformat_minor": 5
}
