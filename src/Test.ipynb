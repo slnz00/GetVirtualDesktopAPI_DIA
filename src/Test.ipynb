{
 "cells": [
  {
   "cell_type": "code",
   "execution_count": 1,
   "id": "initial_id",
   "metadata": {
    "collapsed": true,
    "ExecuteTime": {
     "end_time": "2023-09-11T20:06:46.551388900Z",
     "start_time": "2023-09-11T20:06:41.753882800Z"
    }
   },
   "outputs": [],
   "source": [
    "import os\n",
    "import sys\n",
    "\n",
    "sys.path.append(os.path.abspath(\"..\"))\n",
    "\n",
    "from components.PEFile import PEFile\n",
    "from components.Dumper import Dumper\n",
    "\n",
    "twinuipcshell = PEFile(r\"C:\\Windows\\System32\\twinui.pcshell.dll\")\n",
    "actxprxy = PEFile(r\"C:\\Windows\\System32\\actxprxy.dll\")\n",
    "\n",
    "dump = Dumper(Dumper.Output.CONSOLE, 'test', [twinuipcshell, actxprxy])"
   ]
  },
  {
   "cell_type": "markdown",
   "source": [
    "**All GUIDs:**"
   ],
   "metadata": {
    "collapsed": false
   },
   "id": "aaba74c395b440ad"
  },
  {
   "cell_type": "code",
   "execution_count": 2,
   "outputs": [
    {
     "name": "stdout",
     "output_type": "stream",
     "text": [
      "IID_IVirtualDesktopManager: A5CD92FF-29BE-454C-8D04-D82879FB3F1B\n",
      "IID_IVirtualDesktopAccessibility: 9975B71D-0A84-4909-BDDE-B455BBFA55C6\n",
      "IID_IVirtualDesktop: 3F07F4BE-B107-441A-AF0F-39D82529072C\n",
      "IID_IVirtualDesktopTabletModePolicyService: 56B32065-0BB3-42E2-975D-A559DE1316E8\n",
      "IID_IVirtualDesktopNotification: B287FA1C-7771-471A-A2DF-9B6B21F0D675\n",
      "IID_IVirtualDesktopNotificationService: 0CD45E71-D927-4F15-8B0A-8FEF525337BF\n",
      "IID_IVirtualDesktop2: A871910E-6CC0-4E65-8B9B-458CE9115E30\n",
      "IID_IVirtualDesktopAnimationSyncNotification: 6CAFD3F1-05D1-4D26-A32A-9907A72C920B\n",
      "IID_IVirtualDesktopSwitcherInvoker: 7A25165A-86F1-4B4A-B1D2-E89650CD9589\n",
      "IID_IVirtualDesktopManagerInternal2: A3175F2D-239C-4BD2-8AA0-EEBA8B0B138E\n",
      "IID_IVirtualDesktopPinnedApps: 4CE81583-1E4C-4632-A621-07A53543148F\n",
      "IID_IVirtualDesktopHotkeyHandler: 44B664EC-253C-4F5C-827B-78FB573756AE\n",
      "IID_IVirtualDesktopSwitcherHost: 1BE71764-E771-4442-B78F-EDA2C7F067F3\n",
      "IID_IVirtualDesktopAnimationSyncNotificationService: 0DDAF2D8-C38F-4638-95FC-FB9C6DDAE52F\n",
      "IID_IVirtualDesktopManagerInternal: 4970BA3D-FD4E-4647-BEA3-D89076EF4B9C\n"
     ]
    }
   ],
   "source": [
    "for (k, _) in dump.symbol_map.items():\n",
    "    if \"IID_IVirtualDesktop\" in k:\n",
    "        dump.guid(k)"
   ],
   "metadata": {
    "collapsed": false,
    "ExecuteTime": {
     "end_time": "2023-09-04T21:23:44.537205Z",
     "start_time": "2023-09-04T21:23:44.512359300Z"
    }
   },
   "id": "2d53b788bb7d7ffa"
  },
  {
   "cell_type": "markdown",
   "source": [
    "**Usable GUIDs:**"
   ],
   "metadata": {
    "collapsed": false
   },
   "id": "35fbe287cc5461b2"
  },
  {
   "cell_type": "code",
   "execution_count": 4,
   "outputs": [
    {
     "name": "stdout",
     "output_type": "stream",
     "text": [
      "IID_IVirtualDesktopManagerInternal2: A3175F2D-239C-4BD2-8AA0-EEBA8B0B138E\n",
      "IID_IVirtualDesktopManagerInternal: 4970BA3D-FD4E-4647-BEA3-D89076EF4B9C\n",
      "IID_IVirtualDesktopManager: A5CD92FF-29BE-454C-8D04-D82879FB3F1B\n",
      "IID_IVirtualDesktop2: A871910E-6CC0-4E65-8B9B-458CE9115E30\n",
      "IID_IVirtualDesktop: 3F07F4BE-B107-441A-AF0F-39D82529072C\n",
      "IID_IVirtualDesktopPinnedApps: 4CE81583-1E4C-4632-A621-07A53543148F\n",
      "IID_IVirtualDesktopNotification: B287FA1C-7771-471A-A2DF-9B6B21F0D675\n",
      "IID_IVirtualDesktopNotificationService: 0CD45E71-D927-4F15-8B0A-8FEF525337BF\n"
     ]
    }
   ],
   "source": [
    "dump.guid('IID_IVirtualDesktopManagerInternal2')\n",
    "dump.guid('IID_IVirtualDesktopManagerInternal')\n",
    "dump.guid('IID_IVirtualDesktopManager')\n",
    "dump.guid('IID_IVirtualDesktop2')\n",
    "dump.guid('IID_IVirtualDesktop')\n",
    "dump.guid('IID_IVirtualDesktopPinnedApps')\n",
    "dump.guid('IID_IVirtualDesktopNotification')\n",
    "dump.guid('IID_IVirtualDesktopNotificationService')\n"
   ],
   "metadata": {
    "collapsed": false,
    "ExecuteTime": {
     "end_time": "2023-09-11T20:17:21.293747800Z",
     "start_time": "2023-09-11T20:17:21.291938400Z"
    }
   },
   "id": "bb666059dbcdc67a"
  },
  {
   "cell_type": "markdown",
   "source": [
    "**All vftables:**"
   ],
   "metadata": {
    "collapsed": false
   },
   "id": "47f35efe928a29e9"
  },
  {
   "cell_type": "code",
   "execution_count": 4,
   "outputs": [],
   "source": [
    "for (k, _) in dump.symbol_map.items():\n",
    "    if \"??_7Virtual\" in k or \"??_7CVirtual\" in k:\n",
    "        pass\n",
    "        # dump.vftable('Unknown', k)"
   ],
   "metadata": {
    "collapsed": false,
    "ExecuteTime": {
     "end_time": "2023-09-04T21:30:24.028505400Z",
     "start_time": "2023-09-04T21:30:24.007948700Z"
    }
   },
   "id": "db685f26a6863d85"
  },
  {
   "cell_type": "markdown",
   "source": [
    "**Usable vftables (Win11-22H2-22621.2215)**"
   ],
   "metadata": {
    "collapsed": false
   },
   "id": "8ce0edbe941d83f0"
  },
  {
   "cell_type": "code",
   "execution_count": 2,
   "outputs": [
    {
     "name": "stdout",
     "output_type": "stream",
     "text": [
      "\n",
      "[IVirtualDesktopManagerInternal] const CVirtualDesktopManager::`vftable'{for `IVirtualDesktopManagerInternal2'}\n",
      "    Method  0: [thunk]:public: virtual long __cdecl Microsoft::WRL::Details::RuntimeClassImpl<struct Microsoft::WRL::RuntimeClassFlags<3>,1,1,0,struct Microsoft::WRL::ChainInterfaces<struct IVirtualDesktopManagerPrivate,struct IVirtualDesktopManagerInternal,struct IVirtualDesktopManagerInternal2,class Microsoft::WRL::Details::Nil,class Microsoft::WRL::Details::Nil,class Microsoft::WRL::Details::Nil,class Microsoft::WRL::Details::Nil,class Microsoft::WRL::Details::Nil,class Microsoft::WRL::Details::Nil,class Microsoft::WRL::Details::Nil>,struct IVirtualDesktopManagerInternal,struct IVirtualDesktopManagerInternal2,struct ISuspendableVirtualDesktopManager,struct IImmersiveWindowMessageNotification,class Microsoft::WRL::FtmBase>::QueryInterface`adjustor{32}' (struct _GUID const & __ptr64,void * __ptr64 * __ptr64) __ptr64 (?QueryInterface@?$RuntimeClassImpl@U?$RuntimeClassFlags@$02@WRL@Microsoft@@$00$00$0A@U?$ChainInterfaces@UIVirtualDesktopManagerPrivate@@UIVirtualDesktopManagerInternal@@UIVirtualDesktopManagerInternal2@@VNil@Details@WRL@Microsoft@@V4567@V4567@V4567@V4567@V4567@V4567@@23@UIVirtualDesktopManagerInternal@@UIVirtualDesktopManagerInternal2@@UISuspendableVirtualDesktopManager@@UIImmersiveWindowMessageNotification@@VFtmBase@23@@Details@WRL@Microsoft@@WCA@EAAJAEBU_GUID@@PEAPEAX@Z)\n",
      "    Method  1: [thunk]:public: virtual unsigned long __cdecl Microsoft::WRL::Details::RuntimeClassImpl<struct Microsoft::WRL::RuntimeClassFlags<3>,1,1,0,struct ILightDismissNotification,struct Windows::Internal::Shell::Experience::IBaseExperienceManager,struct Windows::Internal::Shell::Experience::IControlCenterExperienceManager,struct IImmersiveSessionIdleNotification,struct IImmersiveWindowMessageNotification,struct IImmersiveMonitorNotification,struct Windows::Foundation::IClosable,struct IInputSwitchHost,struct IInputHostLayoutChanges>::AddRef`adjustor{32}' (void) __ptr64 (?AddRef@?$RuntimeClassImpl@U?$RuntimeClassFlags@$02@WRL@Microsoft@@$00$00$0A@UILightDismissNotification@@UIBaseExperienceManager@Experience@Shell@Internal@Windows@@UIControlCenterExperienceManager@6789@UIImmersiveSessionIdleNotification@@UIImmersiveWindowMessageNotification@@UIImmersiveMonitorNotification@@UIClosable@Foundation@9@UIInputSwitchHost@@UIInputHostLayoutChanges@@@Details@WRL@Microsoft@@WCA@EAAKXZ)\n",
      "    Method  2: [thunk]:public: virtual unsigned long __cdecl Microsoft::WRL::Details::RuntimeClassImpl<struct Microsoft::WRL::RuntimeClassFlags<3>,1,1,0,struct Microsoft::WRL::ChainInterfaces<struct IVirtualDesktopManagerPrivate,struct IVirtualDesktopManagerInternal,struct IVirtualDesktopManagerInternal2,class Microsoft::WRL::Details::Nil,class Microsoft::WRL::Details::Nil,class Microsoft::WRL::Details::Nil,class Microsoft::WRL::Details::Nil,class Microsoft::WRL::Details::Nil,class Microsoft::WRL::Details::Nil,class Microsoft::WRL::Details::Nil>,struct IVirtualDesktopManagerInternal,struct IVirtualDesktopManagerInternal2,struct ISuspendableVirtualDesktopManager,struct IImmersiveWindowMessageNotification,class Microsoft::WRL::FtmBase>::Release`adjustor{32}' (void) __ptr64 (?Release@?$RuntimeClassImpl@U?$RuntimeClassFlags@$02@WRL@Microsoft@@$00$00$0A@U?$ChainInterfaces@UIVirtualDesktopManagerPrivate@@UIVirtualDesktopManagerInternal@@UIVirtualDesktopManagerInternal2@@VNil@Details@WRL@Microsoft@@V4567@V4567@V4567@V4567@V4567@V4567@@23@UIVirtualDesktopManagerInternal@@UIVirtualDesktopManagerInternal2@@UISuspendableVirtualDesktopManager@@UIImmersiveWindowMessageNotification@@VFtmBase@23@@Details@WRL@Microsoft@@WCA@EAAKXZ)\n",
      "    Method  3: [thunk]:public: virtual long __cdecl CVirtualDesktopManager::GetCount`adjustor{24}' (unsigned int * __ptr64) __ptr64 (?GetCount@CVirtualDesktopManager@@WBI@EAAJPEAI@Z)\n",
      "    Method  4: [thunk]:public: virtual long __cdecl CVirtualDesktopManager::MoveViewToDesktop`adjustor{24}' (struct IApplicationView * __ptr64,struct IVirtualDesktop * __ptr64) __ptr64 (?MoveViewToDesktop@CVirtualDesktopManager@@WBI@EAAJPEAUIApplicationView@@PEAUIVirtualDesktop@@@Z)\n",
      "    Method  5: [thunk]:public: virtual long __cdecl CVirtualDesktopManager::CanViewMoveDesktops`adjustor{24}' (struct IApplicationView * __ptr64,int * __ptr64) __ptr64 (?CanViewMoveDesktops@CVirtualDesktopManager@@WBI@EAAJPEAUIApplicationView@@PEAH@Z)\n",
      "    Method  6: [thunk]:public: virtual long __cdecl CVirtualDesktopManager::GetCurrentDesktop`adjustor{24}' (struct IVirtualDesktop * __ptr64 * __ptr64) __ptr64 (?GetCurrentDesktop@CVirtualDesktopManager@@WBI@EAAJPEAPEAUIVirtualDesktop@@@Z)\n",
      "    Method  7: [thunk]:public: virtual long __cdecl CVirtualDesktopManager::GetDesktops`adjustor{24}' (struct IObjectArray * __ptr64 * __ptr64) __ptr64 (?GetDesktops@CVirtualDesktopManager@@WBI@EAAJPEAPEAUIObjectArray@@@Z)\n",
      "    Method  8: [thunk]:public: virtual long __cdecl CVirtualDesktopManager::GetAdjacentDesktop`adjustor{24}' (struct IVirtualDesktop * __ptr64,unsigned int,struct IVirtualDesktop * __ptr64 * __ptr64) __ptr64 (?GetAdjacentDesktop@CVirtualDesktopManager@@WBI@EAAJPEAUIVirtualDesktop@@IPEAPEAU2@@Z)\n",
      "    Method  9: [thunk]:public: virtual long __cdecl CVirtualDesktopManager::SwitchDesktop`adjustor{24}' (struct IVirtualDesktop * __ptr64) __ptr64 (?SwitchDesktop@CVirtualDesktopManager@@WBI@EAAJPEAUIVirtualDesktop@@@Z)\n",
      "    Method 10: [thunk]:public: virtual long __cdecl CVirtualDesktopManager::CreateDesktopW`adjustor{24}' (struct IVirtualDesktop * __ptr64 * __ptr64) __ptr64 (?CreateDesktopW@CVirtualDesktopManager@@WBI@EAAJPEAPEAUIVirtualDesktop@@@Z)\n",
      "    Method 11: [thunk]:public: virtual long __cdecl CVirtualDesktopManager::MoveDesktop`adjustor{24}' (struct IVirtualDesktop * __ptr64,unsigned int) __ptr64 (?MoveDesktop@CVirtualDesktopManager@@WBI@EAAJPEAUIVirtualDesktop@@I@Z)\n",
      "    Method 12: [thunk]:public: virtual long __cdecl CVirtualDesktopManager::RemoveDesktop`adjustor{24}' (struct IVirtualDesktop * __ptr64,struct IVirtualDesktop * __ptr64) __ptr64 (?RemoveDesktop@CVirtualDesktopManager@@WBI@EAAJPEAUIVirtualDesktop@@0@Z)\n",
      "    Method 13: [thunk]:public: virtual long __cdecl CVirtualDesktopManager::FindDesktop`adjustor{24}' (struct _GUID const & __ptr64,struct IVirtualDesktop * __ptr64 * __ptr64) __ptr64 (?FindDesktop@CVirtualDesktopManager@@WBI@EAAJAEBU_GUID@@PEAPEAUIVirtualDesktop@@@Z)\n",
      "    Method 14: [thunk]:public: virtual long __cdecl CVirtualDesktopManager::GetDesktopSwitchIncludeExcludeViews`adjustor{24}' (struct IVirtualDesktop * __ptr64,struct IObjectArray * __ptr64 * __ptr64,struct IObjectArray * __ptr64 * __ptr64) __ptr64 (?GetDesktopSwitchIncludeExcludeViews@CVirtualDesktopManager@@WBI@EAAJPEAUIVirtualDesktop@@PEAPEAUIObjectArray@@1@Z)\n",
      "    Method 15: [thunk]:public: virtual long __cdecl CVirtualDesktopManager::SetDesktopName`adjustor{24}' (struct IVirtualDesktop * __ptr64,struct HSTRING__ * __ptr64) __ptr64 (?SetDesktopName@CVirtualDesktopManager@@WBI@EAAJPEAUIVirtualDesktop@@PEAUHSTRING__@@@Z)\n",
      "    Method 16: [thunk]:public: virtual long __cdecl CVirtualDesktopManager::SetDesktopWallpaper`adjustor{24}' (struct IVirtualDesktop * __ptr64,struct HSTRING__ * __ptr64) __ptr64 (?SetDesktopWallpaper@CVirtualDesktopManager@@WBI@EAAJPEAUIVirtualDesktop@@PEAUHSTRING__@@@Z)\n",
      "    Method 17: [thunk]:public: virtual long __cdecl CVirtualDesktopManager::UpdateWallpaperPathForAllDesktops`adjustor{24}' (struct HSTRING__ * __ptr64) __ptr64 (?UpdateWallpaperPathForAllDesktops@CVirtualDesktopManager@@WBI@EAAJPEAUHSTRING__@@@Z)\n",
      "    Method 18: [thunk]:public: virtual long __cdecl CVirtualDesktopManager::CopyDesktopState`adjustor{24}' (struct IApplicationView * __ptr64,struct IApplicationView * __ptr64) __ptr64 (?CopyDesktopState@CVirtualDesktopManager@@WBI@EAAJPEAUIApplicationView@@0@Z)\n",
      "    Method 19: [thunk]:public: virtual long __cdecl CVirtualDesktopManager::CreateRemoteDesktop`adjustor{24}' (struct HSTRING__ * __ptr64,struct IVirtualDesktop * __ptr64 * __ptr64) __ptr64 (?CreateRemoteDesktop@CVirtualDesktopManager@@WBI@EAAJPEAUHSTRING__@@PEAPEAUIVirtualDesktop@@@Z)\n",
      "    Method 20: [thunk]:public: virtual long __cdecl CVirtualDesktopManager::SwitchRemoteDesktop`adjustor{24}' (struct IVirtualDesktop * __ptr64) __ptr64 (?SwitchRemoteDesktop@CVirtualDesktopManager@@WBI@EAAJPEAUIVirtualDesktop@@@Z)\n",
      "    Method 21: [thunk]:public: virtual long __cdecl CVirtualDesktopManager::SwitchDesktopWithAnimation`adjustor{24}' (struct IVirtualDesktop * __ptr64) __ptr64 (?SwitchDesktopWithAnimation@CVirtualDesktopManager@@WBI@EAAJPEAUIVirtualDesktop@@@Z)\n",
      "    Method 22: [thunk]:public: virtual long __cdecl CVirtualDesktopManager::GetLastActiveDesktop`adjustor{24}' (struct IVirtualDesktop * __ptr64 * __ptr64) __ptr64 (?GetLastActiveDesktop@CVirtualDesktopManager@@WBI@EAAJPEAPEAUIVirtualDesktop@@@Z)\n",
      "    Method 23: [thunk]:public: virtual long __cdecl CVirtualDesktopManager::WaitForAnimationToComplete`adjustor{24}' (void) __ptr64 (?WaitForAnimationToComplete@CVirtualDesktopManager@@WBI@EAAJXZ)\n"
     ]
    }
   ],
   "source": [
    "dump.vftable('IVirtualDesktopManagerInternal', '??_7CVirtualDesktopManager@@6BIVirtualDesktopManagerInternal2@@@')\n",
    "dump.vftable('IVirtualDesktopManager', '??_7VirtualDesktopsApi@@6B@')\n",
    "dump.vftable('IVirtualDesktop', '??_7CVirtualDesktop@@6B?$ChainInterfaces@UIVirtualDesktop2@@UIVirtualDesktop@@VNil@Details@WRL@Microsoft@@V3456@V3456@V3456@V3456@V3456@V3456@V3456@@WRL@Microsoft@@@')\n",
    "dump.vftable('IVirtualDesktopPinnedApps', '??_7VirtualPinnedAppsHandler@@6B?$ChainInterfaces@UIVirtualDesktopPinnedAppsPrivate@@UIVirtualDesktopPinnedApps@@VNil@Details@WRL@Microsoft@@V3456@V3456@V3456@V3456@V3456@V3456@V3456@@WRL@Microsoft@@@')\n",
    "dump.vftable('IID_IVirtualDesktopNotification', '??_7VirtualPinnedAppsHandler@@6B?$ChainInterfaces@UIVirtualDesktopPinnedAppsPrivate@@UIVirtualDesktopPinnedApps@@VNil@Details@WRL@Microsoft@@V3456@V3456@V3456@V3456@V3456@V3456@V3456@@WRL@Microsoft@@@')\n",
    "dump.vftable('IID_IVirtualDesktopNotificationService', '??_7VirtualPinnedAppsHandler@@6B?$ChainInterfaces@UIVirtualDesktopPinnedAppsPrivate@@UIVirtualDesktopPinnedApps@@VNil@Details@WRL@Microsoft@@V3456@V3456@V3456@V3456@V3456@V3456@V3456@@WRL@Microsoft@@@')\n"
   ],
   "metadata": {
    "collapsed": false,
    "ExecuteTime": {
     "end_time": "2023-09-11T20:10:44.684247100Z",
     "start_time": "2023-09-11T20:10:44.664821Z"
    }
   },
   "id": "6e69729118be8a70"
  }
 ],
 "metadata": {
  "kernelspec": {
   "display_name": "Python 3",
   "language": "python",
   "name": "python3"
  },
  "language_info": {
   "codemirror_mode": {
    "name": "ipython",
    "version": 2
   },
   "file_extension": ".py",
   "mimetype": "text/x-python",
   "name": "python",
   "nbconvert_exporter": "python",
   "pygments_lexer": "ipython2",
   "version": "2.7.6"
  }
 },
 "nbformat": 4,
 "nbformat_minor": 5
}
